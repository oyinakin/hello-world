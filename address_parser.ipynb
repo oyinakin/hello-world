{
  "nbformat": 4,
  "nbformat_minor": 0,
  "metadata": {
    "colab": {
      "name": "address_parser.ipynb",
      "provenance": [],
      "collapsed_sections": [],
      "include_colab_link": true
    },
    "kernelspec": {
      "display_name": "Python 3",
      "name": "python3"
    },
    "language_info": {
      "name": "python"
    }
  },
  "cells": [
    {
      "cell_type": "markdown",
      "metadata": {
        "id": "view-in-github",
        "colab_type": "text"
      },
      "source": [
        "<a href=\"https://colab.research.google.com/github/oyinakin/hello-world/blob/master/address_parser.ipynb\" target=\"_parent\"><img src=\"https://colab.research.google.com/assets/colab-badge.svg\" alt=\"Open In Colab\"/></a>"
      ]
    },
    {
      "cell_type": "code",
      "metadata": {
        "id": "02MvI0trIvi8"
      },
      "source": [
        "%cd /\n",
        "!sudo apt-get install curl autoconf automake libtool python-dev pkg-config\n",
        "!sudo apt-get install curl autoconf automake libtool pkg-config\n",
        "!git clone https://github.com/openvenues/libpostal\n",
        "%cd libpostal\n",
        "!./bootstrap.sh\n",
        "!./configure\n",
        "!make -j4\n",
        "!sudo make install\n",
        "!sudo ldconfig\n",
        "\n",
        "!apt install poppler-utils\n",
        "!apt install libtesseract-dev\n",
        "!apt install tesseract-ocr\n",
        "\n",
        "!pip install pdf2image\n",
        "!pip install pytesseract\n",
        "!pip install pyPDF2\n",
        "!pip install postal\n",
        "!pip install boto3\n",
        "\n",
        "%cd ..\n",
        "!mkdir -p cnns\n",
        "%cd cnns\n",
        "shutil.rmtree('input3', ignore_errors=True)\n",
        "shutil.rmtree('input3.zip', ignore_errors=True)\n",
        "!gdown --id 1y5AdmFd_x1t5h3M9pJoN0QLvWxg5NQOi\n",
        "!unzip input3.zip\n",
        "%cd input3\n"
      ],
      "execution_count": null,
      "outputs": []
    },
    {
      "cell_type": "code",
      "metadata": {
        "colab": {
          "background_save": true
        },
        "id": "kimuQc3Ljrch"
      },
      "source": [
        "run main.py"
      ],
      "execution_count": null,
      "outputs": []
    }
  ]
}